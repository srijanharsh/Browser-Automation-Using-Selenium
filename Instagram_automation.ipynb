{
 "cells": [
  {
   "cell_type": "code",
   "execution_count": 3,
   "metadata": {},
   "outputs": [],
   "source": [
    "from selenium import webdriver\n",
    "import time\n",
    "\n",
    "from selenium.webdriver.common.keys import Keys\n",
    "browser = webdriver.Chrome(r\"C:\\Users\\SRIJAN HARSH\\Desktop\\Browser_Automation\\chromedriver.exe\")\n",
    "browser.get('https://www.instagram.com')\n",
    "time.sleep(2)\n",
    "email=browser.find_element_by_xpath('//*[@id=\"loginForm\"]/div/div[1]')\n",
    "email.click()\n",
    "user = browser.find_elements_by_xpath('//*[@id=\"loginForm\"]/div/div[1]/div/label/input')\n",
    "user[0].send_keys('user_name')\n",
    "time.sleep(2)\n",
    "Password=browser.find_element_by_xpath('//*[@id=\"loginForm\"]/div/div[2]')\n",
    "Password.click()\n",
    "password = browser.find_elements_by_xpath('//*[@id=\"loginForm\"]/div/div[2]/div/label/input')\n",
    "password[0].send_keys('password')\n",
    "time.sleep(2)\n",
    "login = browser.find_element_by_xpath('//*[@id=\"loginForm\"]/div/div[3]')\n",
    "login.click()\n",
    "time.sleep(4)\n",
    "clknotnow=browser.find_element_by_xpath('//*[@id=\"react-root\"]/section/main/div/div/div/div/button')\n",
    "clknotnow.click()\n",
    "clknotnow2=browser.find_element_by_xpath('/html/body/div[5]/div/div/div/div[3]/button[2]')\n",
    "clknotnow2.click()\n",
    "time.sleep(2)\n",
    "clkmsg=browser.find_element_by_xpath('//*[@id=\"react-root\"]/section/nav/div[2]/div/div/div[3]/div/div[2]')\n",
    "clkmsg.click()\n",
    "time.sleep(4)\n",
    "clkitem1=browser.find_element_by_xpath('//*[@id=\"react-root\"]/section/div/div[2]/div/div/div[1]/div[2]/div/div/div/div/div[1]/a')\n",
    "clkitem1.click()\n",
    "time.sleep(4)\n",
    "typmsg=browser.find_element_by_xpath('//*[@id=\"react-root\"]/section/div/div[2]/div/div/div[2]/div[2]/div/div[2]/div/div/div[2]/textarea')\n",
    "typmsg.send_keys('Hello this is an auto generated message number: ')\n",
    "sendmsg=browser.find_element_by_xpath('//*[@id=\"react-root\"]/section/div/div[2]/div/div/div[2]/div[2]/div/div[2]/div/div/div[3]')\n",
    "sendmsg.click()\n"
   ]
  },
  {
   "cell_type": "code",
   "execution_count": null,
   "metadata": {},
   "outputs": [],
   "source": []
  },
  {
   "cell_type": "code",
   "execution_count": 5,
   "metadata": {},
   "outputs": [],
   "source": []
  },
  {
   "cell_type": "code",
   "execution_count": null,
   "metadata": {},
   "outputs": [],
   "source": []
  },
  {
   "cell_type": "code",
   "execution_count": null,
   "metadata": {},
   "outputs": [],
   "source": []
  }
 ],
 "metadata": {
  "kernelspec": {
   "display_name": "Python 3",
   "language": "python",
   "name": "python3"
  },
  "language_info": {
   "codemirror_mode": {
    "name": "ipython",
    "version": 3
   },
   "file_extension": ".py",
   "mimetype": "text/x-python",
   "name": "python",
   "nbconvert_exporter": "python",
   "pygments_lexer": "ipython3",
   "version": "3.8.5"
  }
 },
 "nbformat": 4,
 "nbformat_minor": 4
}
