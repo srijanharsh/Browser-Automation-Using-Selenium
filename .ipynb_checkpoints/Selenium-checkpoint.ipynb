{
 "cells": [
  {
   "cell_type": "code",
   "execution_count": null,
   "metadata": {},
   "outputs": [],
   "source": [
    "from selenium import webdriver\t\n",
    "\n",
    "# For using sleep function because selenium\n",
    "# works only when the all the elements of the\n",
    "# page is loaded.\n",
    "import time\n",
    "\n",
    "from selenium.webdriver.common.keys import Keys\n",
    "\n",
    "# Creating an instance webdriver\n",
    "browser = webdriver.Firefox()\n",
    "browser.get('https://www.twitter.com')\n",
    "\n",
    "# Let's the user see and also load the element\n",
    "time.sleep(2)\n",
    "\n",
    "login = browser.find_elements_by_xpath('//*[@id=\"doc\"]/div[1]/div/div[1]/div[2]/a[3]')\n",
    "\n",
    "# using the click function which is similar to a click in the mouse.\n",
    "login[0].click()\n",
    "\n",
    "print(\"Login in Twitter\")\n",
    "\n",
    "user = browser.find_elements_by_xpath('//*[@id=\"login-dialog-dialog\"]/div[2]/div[2]/div[2]/form/div[1]/input')\n",
    "\n",
    "# Enter User Name\n",
    "user[0].send_keys('USER-NAME')\n",
    "\n",
    "user = browser.find_element_by_xpath('//*[@id=\"login-dialog-dialog\"]/div[2]/div[2]/div[2]/form/div[2]/input')\n",
    "\n",
    "# Reads password from a text file because\n",
    "# saving the password in a script is just silly.\n",
    "with open('test.txt', 'r') as myfile:\n",
    "\tPassword = myfile.read().replace('\\n', '')\n",
    "user.send_keys(Password)\n",
    "\n",
    "LOG = browser.find_elements_by_xpath('//*[@id=\"login-dialog-dialog\"]/div[2]/div[2]/div[2]/form/input[1]')\n",
    "LOG[0].click()\n",
    "print(\"Login Successful\")\n",
    "time.sleep(5)\n",
    "\n",
    "elem = browser.find_element_by_name(\"q\")\n",
    "elem.click()\n",
    "elem.clear()\n",
    "\n",
    "elem.send_keys(\"Geeks for geeks \")\n",
    "\n",
    "# using keys to send special KEYS\n",
    "elem.send_keys(Keys.RETURN)\n",
    "\n",
    "print(\"Search Successful\")\n",
    "\n",
    "# closing the browser\n",
    "browser.close()\n"
   ]
  }
 ],
 "metadata": {
  "kernelspec": {
   "display_name": "Python 3",
   "language": "python",
   "name": "python3"
  },
  "language_info": {
   "codemirror_mode": {
    "name": "ipython",
    "version": 3
   },
   "file_extension": ".py",
   "mimetype": "text/x-python",
   "name": "python",
   "nbconvert_exporter": "python",
   "pygments_lexer": "ipython3",
   "version": "3.8.5"
  }
 },
 "nbformat": 4,
 "nbformat_minor": 4
}
